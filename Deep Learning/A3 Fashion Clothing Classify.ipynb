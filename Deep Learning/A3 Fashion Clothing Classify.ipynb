{
 "cells": [
  {
   "cell_type": "code",
   "execution_count": 2,
   "id": "9229c14f",
   "metadata": {},
   "outputs": [],
   "source": [
    "import numpy as np\n",
    "import pandas as pd\n",
    "import matplotlib.pyplot as plt\n",
    "from sklearn.model_selection import train_test_split\n",
    "from tensorflow.keras.models import Sequential\n",
    "from tensorflow.keras.layers import Conv2D, MaxPooling2D, Flatten, Dense, Dropout\n",
    "from tensorflow.keras.utils import to_categorical"
   ]
  },
  {
   "cell_type": "code",
   "execution_count": 4,
   "id": "65bf5682",
   "metadata": {},
   "outputs": [],
   "source": [
    " # Load the dataset\n",
    "data = pd.read_csv('fashion-MNIST.csv')"
   ]
  },
  {
   "cell_type": "code",
   "execution_count": 5,
   "id": "e8ad4a9a",
   "metadata": {},
   "outputs": [],
   "source": [
    " # Split features and labels\n",
    "X = data.iloc[:, 1:].values.astype('float32')  # Features (pixels)\n",
    "y = data.iloc[:, 0].values.astype('int32')     # Labels (categories)"
   ]
  },
  {
   "cell_type": "code",
   "execution_count": 7,
   "id": "af4b8a82",
   "metadata": {},
   "outputs": [],
   "source": [
    "# Preprocess the data\n",
    "X /= 255.0  # Normalize pixel values to be between 0 and 1\n",
    "X = X.reshape(-1, 28, 28, 1)  # Reshape the features into 28x28 grayscale images"
   ]
  },
  {
   "cell_type": "code",
   "execution_count": 8,
   "id": "d665c24f",
   "metadata": {},
   "outputs": [],
   "source": [
    " # Split the data into training and testing sets\n",
    "X_train, X_test, y_train, y_test = train_test_split(X, y, \n",
    "test_size=0.2, random_state=42)"
   ]
  },
  {
   "cell_type": "code",
   "execution_count": 9,
   "id": "a45ee801",
   "metadata": {},
   "outputs": [],
   "source": [
    " # Convert labels to one-hot encoding\n",
    " num_classes = len(np.unique(y))\n",
    " y_train = to_categorical(y_train, num_classes)\n",
    " y_test = to_categorical(y_test, num_classes)"
   ]
  },
  {
   "cell_type": "code",
   "execution_count": 10,
   "id": "c7d845ec",
   "metadata": {},
   "outputs": [
    {
     "name": "stderr",
     "output_type": "stream",
     "text": [
      "c:\\Users\\Yashkumar\\AppData\\Local\\Programs\\Python\\Python311\\Lib\\site-packages\\keras\\src\\layers\\convolutional\\base_conv.py:99: UserWarning: Do not pass an `input_shape`/`input_dim` argument to a layer. When using Sequential models, prefer using an `Input(shape)` object as the first layer in the model instead.\n",
      "  super().__init__(\n"
     ]
    }
   ],
   "source": [
    " # Build the CNN model\n",
    " model = Sequential([\n",
    "    Conv2D(32, (3, 3), activation='relu', input_shape=(28, 28, 1)),\n",
    "    MaxPooling2D((2, 2)),\n",
    "    Conv2D(64, (3, 3), activation='relu'),\n",
    "    MaxPooling2D((2, 2)),\n",
    "    Conv2D(128, (3, 3), activation='relu'),\n",
    "    MaxPooling2D((2, 2)),\n",
    "    Flatten(),\n",
    "    Dense(128, activation='relu'),\n",
    "    Dropout(0.5),\n",
    "    Dense(num_classes, activation='softmax')\n",
    " ])"
   ]
  },
  {
   "cell_type": "code",
   "execution_count": 12,
   "id": "389c4f8f",
   "metadata": {},
   "outputs": [],
   "source": [
    "# Compile the model\n",
    "model.compile(optimizer='adam', loss='categorical_crossentropy', \n",
    "metrics=['accuracy'])"
   ]
  },
  {
   "cell_type": "code",
   "execution_count": 13,
   "id": "3c889a0e",
   "metadata": {},
   "outputs": [
    {
     "name": "stdout",
     "output_type": "stream",
     "text": [
      "Epoch 1/10\n",
      "\u001b[1m50/50\u001b[0m \u001b[32m━━━━━━━━━━━━━━━━━━━━\u001b[0m\u001b[37m\u001b[0m \u001b[1m5s\u001b[0m 47ms/step - accuracy: 0.2877 - loss: 1.9856 - val_accuracy: 0.6731 - val_loss: 0.9465\n",
      "Epoch 2/10\n",
      "\u001b[1m50/50\u001b[0m \u001b[32m━━━━━━━━━━━━━━━━━━━━\u001b[0m\u001b[37m\u001b[0m \u001b[1m2s\u001b[0m 41ms/step - accuracy: 0.6310 - loss: 1.0099 - val_accuracy: 0.7312 - val_loss: 0.7062\n",
      "Epoch 3/10\n",
      "\u001b[1m50/50\u001b[0m \u001b[32m━━━━━━━━━━━━━━━━━━━━\u001b[0m\u001b[37m\u001b[0m \u001b[1m2s\u001b[0m 38ms/step - accuracy: 0.7111 - loss: 0.8040 - val_accuracy: 0.7375 - val_loss: 0.6498\n",
      "Epoch 4/10\n",
      "\u001b[1m50/50\u001b[0m \u001b[32m━━━━━━━━━━━━━━━━━━━━\u001b[0m\u001b[37m\u001b[0m \u001b[1m2s\u001b[0m 40ms/step - accuracy: 0.7361 - loss: 0.7333 - val_accuracy: 0.7644 - val_loss: 0.6267\n",
      "Epoch 5/10\n",
      "\u001b[1m50/50\u001b[0m \u001b[32m━━━━━━━━━━━━━━━━━━━━\u001b[0m\u001b[37m\u001b[0m \u001b[1m2s\u001b[0m 36ms/step - accuracy: 0.7581 - loss: 0.6669 - val_accuracy: 0.7738 - val_loss: 0.5959\n",
      "Epoch 6/10\n",
      "\u001b[1m50/50\u001b[0m \u001b[32m━━━━━━━━━━━━━━━━━━━━\u001b[0m\u001b[37m\u001b[0m \u001b[1m2s\u001b[0m 43ms/step - accuracy: 0.7684 - loss: 0.6486 - val_accuracy: 0.7862 - val_loss: 0.5731\n",
      "Epoch 7/10\n",
      "\u001b[1m50/50\u001b[0m \u001b[32m━━━━━━━━━━━━━━━━━━━━\u001b[0m\u001b[37m\u001b[0m \u001b[1m2s\u001b[0m 41ms/step - accuracy: 0.7688 - loss: 0.6202 - val_accuracy: 0.8056 - val_loss: 0.5409\n",
      "Epoch 8/10\n",
      "\u001b[1m50/50\u001b[0m \u001b[32m━━━━━━━━━━━━━━━━━━━━\u001b[0m\u001b[37m\u001b[0m \u001b[1m2s\u001b[0m 42ms/step - accuracy: 0.7782 - loss: 0.6010 - val_accuracy: 0.8069 - val_loss: 0.5383\n",
      "Epoch 9/10\n",
      "\u001b[1m50/50\u001b[0m \u001b[32m━━━━━━━━━━━━━━━━━━━━\u001b[0m\u001b[37m\u001b[0m \u001b[1m2s\u001b[0m 41ms/step - accuracy: 0.7945 - loss: 0.5588 - val_accuracy: 0.8131 - val_loss: 0.5090\n",
      "Epoch 10/10\n",
      "\u001b[1m50/50\u001b[0m \u001b[32m━━━━━━━━━━━━━━━━━━━━\u001b[0m\u001b[37m\u001b[0m \u001b[1m2s\u001b[0m 40ms/step - accuracy: 0.8075 - loss: 0.5198 - val_accuracy: 0.8213 - val_loss: 0.4868\n"
     ]
    },
    {
     "data": {
      "text/plain": [
       "<keras.src.callbacks.history.History at 0x1911c74ad10>"
      ]
     },
     "execution_count": 13,
     "metadata": {},
     "output_type": "execute_result"
    }
   ],
   "source": [
    " # Train the model\n",
    "model.fit(X_train, y_train, epochs=10, batch_size=128, \n",
    "validation_split=0.2)"
   ]
  },
  {
   "cell_type": "code",
   "execution_count": 17,
   "id": "7a01345d",
   "metadata": {},
   "outputs": [
    {
     "name": "stdout",
     "output_type": "stream",
     "text": [
      "\u001b[1m63/63\u001b[0m \u001b[32m━━━━━━━━━━━━━━━━━━━━\u001b[0m\u001b[37m\u001b[0m \u001b[1m1s\u001b[0m 12ms/step - accuracy: 0.8050 - loss: 0.5061\n",
      "Test Accuracy: 0.8140000104904175\n"
     ]
    }
   ],
   "source": [
    "# Evaluate the model\n",
    "test_loss, test_accuracy = model.evaluate(X_test, y_test)\n",
    "print(f'Test Accuracy: {test_accuracy}')"
   ]
  },
  {
   "cell_type": "code",
   "execution_count": 18,
   "id": "dff646d0",
   "metadata": {},
   "outputs": [
    {
     "name": "stdout",
     "output_type": "stream",
     "text": [
      "\u001b[1m63/63\u001b[0m \u001b[32m━━━━━━━━━━━━━━━━━━━━\u001b[0m\u001b[37m\u001b[0m \u001b[1m1s\u001b[0m 8ms/step\n"
     ]
    }
   ],
   "source": [
    " # Make predictions\n",
    "predictions = model.predict(X_test)"
   ]
  },
  {
   "cell_type": "code",
   "execution_count": 19,
   "id": "90224539",
   "metadata": {},
   "outputs": [
    {
     "name": "stdout",
     "output_type": "stream",
     "text": [
      "Some actual and predicted classes:\n",
      "Sample 1: Actual cloth class: 4,Predicted cloth class: 4\n",
      "Sample 2: Actual cloth class: 9,Predicted cloth class: 9\n",
      "Sample 3: Actual cloth class: 6,Predicted cloth class: 0\n",
      "Sample 4: Actual cloth class: 0,Predicted cloth class: 0\n",
      "Sample 5: Actual cloth class: 9,Predicted cloth class: 9\n",
      "Sample 6: Actual cloth class: 1,Predicted cloth class: 1\n",
      "Sample 7: Actual cloth class: 5,Predicted cloth class: 5\n",
      "Sample 8: Actual cloth class: 1,Predicted cloth class: 1\n",
      "Sample 9: Actual cloth class: 6,Predicted cloth class: 6\n",
      "Sample 10: Actual cloth class: 8,Predicted cloth class: 8\n"
     ]
    }
   ],
   "source": [
    " # Print some actual and predicted classes\n",
    "print(\n",
    " \"Some actual and predicted classes:\")\n",
    "for i in range(10):   # Print predictions for the first 10 images\n",
    "    actual_class =np.argmax(y_test[i])\n",
    "    predicted_class =np.argmax(predictions[i])\n",
    "    print(f\"Sample {i+1}: Actual cloth class: {actual_class},Predicted cloth class: {predicted_class}\")"
   ]
  },
  {
   "cell_type": "code",
   "execution_count": null,
   "id": "006b489a",
   "metadata": {},
   "outputs": [],
   "source": []
  }
 ],
 "metadata": {
  "kernelspec": {
   "display_name": "Python 3",
   "language": "python",
   "name": "python3"
  },
  "language_info": {
   "codemirror_mode": {
    "name": "ipython",
    "version": 3
   },
   "file_extension": ".py",
   "mimetype": "text/x-python",
   "name": "python",
   "nbconvert_exporter": "python",
   "pygments_lexer": "ipython3",
   "version": "3.11.5"
  }
 },
 "nbformat": 4,
 "nbformat_minor": 5
}
